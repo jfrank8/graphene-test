{
 "cells": [
  {
   "cell_type": "code",
   "execution_count": 7,
   "metadata": {
    "id": "sDzXyPS0qBuf"
   },
   "outputs": [],
   "source": [
    "import pandas as pd\n",
    "import numpy as np\n",
    "import matplotlib.pyplot as plt"
   ]
  },
  {
   "cell_type": "code",
   "execution_count": 8,
   "metadata": {
    "colab": {
     "base_uri": "https://localhost:8080/",
     "height": 425
    },
    "id": "iYJvEA-IqlGG",
    "outputId": "e01fc6a5-7d7e-4595-bebb-99f683cea621"
   },
   "outputs": [
    {
     "data": {
      "text/html": [
       "<div>\n",
       "<style scoped>\n",
       "    .dataframe tbody tr th:only-of-type {\n",
       "        vertical-align: middle;\n",
       "    }\n",
       "\n",
       "    .dataframe tbody tr th {\n",
       "        vertical-align: top;\n",
       "    }\n",
       "\n",
       "    .dataframe thead th {\n",
       "        text-align: right;\n",
       "    }\n",
       "</style>\n",
       "<table border=\"1\" class=\"dataframe\">\n",
       "  <thead>\n",
       "    <tr style=\"text-align: right;\">\n",
       "      <th></th>\n",
       "      <th>Vgs(V)</th>\n",
       "      <th>Ids (uA)</th>\n",
       "      <th>Ids (uA).1</th>\n",
       "      <th>Ids (uA).2</th>\n",
       "      <th>Ids (uA).3</th>\n",
       "      <th>Ids (uA).4</th>\n",
       "    </tr>\n",
       "  </thead>\n",
       "  <tbody>\n",
       "    <tr>\n",
       "      <th>1</th>\n",
       "      <td>-0.60</td>\n",
       "      <td>22.61694</td>\n",
       "      <td>21.7619</td>\n",
       "      <td>21.10388</td>\n",
       "      <td>20.331</td>\n",
       "      <td>20.17068</td>\n",
       "    </tr>\n",
       "    <tr>\n",
       "      <th>2</th>\n",
       "      <td>-0.59</td>\n",
       "      <td>22.62385</td>\n",
       "      <td>21.73904</td>\n",
       "      <td>21.17301</td>\n",
       "      <td>20.57586</td>\n",
       "      <td>20.26081</td>\n",
       "    </tr>\n",
       "    <tr>\n",
       "      <th>3</th>\n",
       "      <td>-0.58</td>\n",
       "      <td>22.6523</td>\n",
       "      <td>21.751</td>\n",
       "      <td>21.22272</td>\n",
       "      <td>20.70321</td>\n",
       "      <td>20.35386</td>\n",
       "    </tr>\n",
       "    <tr>\n",
       "      <th>4</th>\n",
       "      <td>-0.57</td>\n",
       "      <td>22.63023</td>\n",
       "      <td>21.75526</td>\n",
       "      <td>21.20039</td>\n",
       "      <td>20.7532</td>\n",
       "      <td>20.35519</td>\n",
       "    </tr>\n",
       "    <tr>\n",
       "      <th>5</th>\n",
       "      <td>-0.56</td>\n",
       "      <td>22.71372</td>\n",
       "      <td>21.69783</td>\n",
       "      <td>21.12834</td>\n",
       "      <td>20.7415</td>\n",
       "      <td>20.34084</td>\n",
       "    </tr>\n",
       "    <tr>\n",
       "      <th>...</th>\n",
       "      <td>...</td>\n",
       "      <td>...</td>\n",
       "      <td>...</td>\n",
       "      <td>...</td>\n",
       "      <td>...</td>\n",
       "      <td>...</td>\n",
       "    </tr>\n",
       "    <tr>\n",
       "      <th>147</th>\n",
       "      <td>0.86</td>\n",
       "      <td>19.91677</td>\n",
       "      <td>19.27045</td>\n",
       "      <td>19.28613</td>\n",
       "      <td>19.46187</td>\n",
       "      <td>19.74875</td>\n",
       "    </tr>\n",
       "    <tr>\n",
       "      <th>148</th>\n",
       "      <td>0.87</td>\n",
       "      <td>19.91332</td>\n",
       "      <td>19.3082</td>\n",
       "      <td>19.28002</td>\n",
       "      <td>19.53472</td>\n",
       "      <td>19.74795</td>\n",
       "    </tr>\n",
       "    <tr>\n",
       "      <th>149</th>\n",
       "      <td>0.88</td>\n",
       "      <td>19.89125</td>\n",
       "      <td>19.36377</td>\n",
       "      <td>19.42571</td>\n",
       "      <td>19.39408</td>\n",
       "      <td>19.77161</td>\n",
       "    </tr>\n",
       "    <tr>\n",
       "      <th>150</th>\n",
       "      <td>0.89</td>\n",
       "      <td>19.85908</td>\n",
       "      <td>19.34383</td>\n",
       "      <td>19.43954</td>\n",
       "      <td>19.40764</td>\n",
       "      <td>19.76284</td>\n",
       "    </tr>\n",
       "    <tr>\n",
       "      <th>151</th>\n",
       "      <td>0.90</td>\n",
       "      <td>19.81893</td>\n",
       "      <td>19.32123</td>\n",
       "      <td>19.43449</td>\n",
       "      <td>19.56211</td>\n",
       "      <td>19.7623</td>\n",
       "    </tr>\n",
       "  </tbody>\n",
       "</table>\n",
       "<p>151 rows × 6 columns</p>\n",
       "</div>"
      ],
      "text/plain": [
       "     Vgs(V)  Ids (uA) Ids (uA).1 Ids (uA).2 Ids (uA).3 Ids (uA).4\n",
       "1     -0.60  22.61694    21.7619   21.10388     20.331   20.17068\n",
       "2     -0.59  22.62385   21.73904   21.17301   20.57586   20.26081\n",
       "3     -0.58   22.6523     21.751   21.22272   20.70321   20.35386\n",
       "4     -0.57  22.63023   21.75526   21.20039    20.7532   20.35519\n",
       "5     -0.56  22.71372   21.69783   21.12834    20.7415   20.34084\n",
       "..      ...       ...        ...        ...        ...        ...\n",
       "147    0.86  19.91677   19.27045   19.28613   19.46187   19.74875\n",
       "148    0.87  19.91332    19.3082   19.28002   19.53472   19.74795\n",
       "149    0.88  19.89125   19.36377   19.42571   19.39408   19.77161\n",
       "150    0.89  19.85908   19.34383   19.43954   19.40764   19.76284\n",
       "151    0.90  19.81893   19.32123   19.43449   19.56211    19.7623\n",
       "\n",
       "[151 rows x 6 columns]"
      ]
     },
     "execution_count": 8,
     "metadata": {},
     "output_type": "execute_result"
    }
   ],
   "source": [
    "df1 = pd.read_excel('Data_byFigs.xlsx')\n",
    "concentration = df1.iloc[0,1:].to_numpy()\n",
    "df1 = df1.drop(index=0)"
   ]
  },
  {
   "cell_type": "code",
   "execution_count": 57,
   "metadata": {
    "id": "yu9qEwioq3yv"
   },
   "outputs": [
    {
     "data": {
      "text/plain": [
       "[array([-1.12873239e+01,  3.88935907e+01, -2.86070655e+01, -4.30182708e+01,\n",
       "         6.45369323e+01,  9.18338722e+00, -4.88784546e+01,  7.88338538e+00,\n",
       "         1.96901190e+01, -5.62169002e+00, -4.84100424e+00,  1.58007880e+00,\n",
       "         7.77597346e-01, -2.28752351e-01, -8.37727585e-02,  1.58428521e-02,\n",
       "         5.68765009e-03, -1.98932474e-04, -1.68337165e-04, -3.04055170e-05,\n",
       "         1.70847304e-05]),\n",
       " array([-1.91083192e+01,  5.22598335e+01, -1.08070270e+01, -8.43475794e+01,\n",
       "         5.65755298e+01,  5.55289635e+01, -5.39086634e+01, -1.90978203e+01,\n",
       "         2.56840885e+01,  3.70659610e+00, -7.20079008e+00, -4.51793706e-01,\n",
       "         1.24053607e+00,  5.36287002e-02, -1.28836833e-01, -8.06255196e-03,\n",
       "         7.26067239e-03,  8.39245889e-04, -1.36288224e-04, -4.13411451e-05,\n",
       "         1.53043126e-05]),\n",
       " array([ 9.64798712e+00, -3.72972891e+01,  3.75823100e+01,  2.85525952e+01,\n",
       "        -7.05871336e+01,  1.17915800e+01,  4.66296277e+01, -2.17314978e+01,\n",
       "        -1.55769774e+01,  1.08358448e+01,  2.85095341e+00, -2.81842152e+00,\n",
       "        -2.85895820e-01,  4.26224622e-01,  1.70816607e-02, -3.77399692e-02,\n",
       "        -1.25964453e-03,  1.84011549e-03,  1.32235643e-04, -4.36290965e-05,\n",
       "         1.25321724e-05]),\n",
       " array([ 1.93754059e+01, -5.57214098e+01,  1.86690448e+01,  8.34064598e+01,\n",
       "        -6.95343422e+01, -4.70487092e+01,  6.21864449e+01,  1.07291647e+01,\n",
       "        -2.82766006e+01,  3.10410515e-01,  7.59829735e+00, -6.81039361e-01,\n",
       "        -1.26890095e+00,  1.46169147e-01,  1.33018863e-01, -1.41270913e-02,\n",
       "        -8.65741202e-03,  6.30473552e-04,  3.49017789e-04, -1.16663393e-05,\n",
       "         1.05683849e-05]),\n",
       " array([-1.21152657e+00,  1.05760650e+01, -2.31316148e+01,  7.09555522e+00,\n",
       "         3.02193021e+01, -2.70037902e+01, -1.25660651e+01,  2.15281320e+01,\n",
       "         3.93298160e-01, -8.48367730e+00,  1.28505559e+00,  1.92696798e+00,\n",
       "        -4.49610938e-01, -2.64068085e-01,  7.13736763e-02,  2.18138660e-02,\n",
       "        -6.05446112e-03, -1.04178083e-03,  2.90139121e-04,  2.27679276e-05,\n",
       "         1.08050037e-05])]"
      ]
     },
     "execution_count": 57,
     "metadata": {},
     "output_type": "execute_result"
    }
   ],
   "source": [
    "v = df1.iloc[:,0].to_numpy()\n",
    "fits = []\n",
    "all_i = []\n",
    "for index, conc in enumerate(concentration):\n",
    "  i = df1.iloc[:,index+1].to_numpy()*1e-6\n",
    "  all_i.append(i)\n",
    "  z = np.polyfit(v.astype('float'),i.astype('float'),20)\n",
    "  fits.append(z)\n",
    "fits"
   ]
  },
  {
   "cell_type": "code",
   "execution_count": 58,
   "metadata": {
    "id": "8Vx4kf6DrTw2"
   },
   "outputs": [],
   "source": [
    "with open('sodium_fits.npy', 'wb') as f:\n",
    "    np.save(f, fits)"
   ]
  }
 ],
 "metadata": {
  "colab": {
   "provenance": []
  },
  "kernelspec": {
   "display_name": "Python 3 (ipykernel)",
   "language": "python",
   "name": "python3"
  },
  "language_info": {
   "codemirror_mode": {
    "name": "ipython",
    "version": 3
   },
   "file_extension": ".py",
   "mimetype": "text/x-python",
   "name": "python",
   "nbconvert_exporter": "python",
   "pygments_lexer": "ipython3",
   "version": "3.11.6"
  }
 },
 "nbformat": 4,
 "nbformat_minor": 4
}
